{
  "nbformat": 4,
  "nbformat_minor": 0,
  "metadata": {
    "colab": {
      "provenance": [],
      "authorship_tag": "ABX9TyMHb4AfRD7HZP4zVAJk8DE0",
      "include_colab_link": true
    },
    "kernelspec": {
      "name": "python3",
      "display_name": "Python 3"
    },
    "language_info": {
      "name": "python"
    }
  },
  "cells": [
    {
      "cell_type": "markdown",
      "metadata": {
        "id": "view-in-github",
        "colab_type": "text"
      },
      "source": [
        "<a href=\"https://colab.research.google.com/github/Avazbek-CNU/Mobile-Price-Predictions/blob/main/Mobile_price_prediction.ipynb\" target=\"_parent\"><img src=\"https://colab.research.google.com/assets/colab-badge.svg\" alt=\"Open In Colab\"/></a>"
      ]
    },
    {
      "cell_type": "markdown",
      "source": [
        "##Simple Linear Regression"
      ],
      "metadata": {
        "id": "YEdWiOJ7nuut"
      }
    },
    {
      "cell_type": "markdown",
      "source": [
        "#Mobile price depends on various factors such as resolution, brand, size, weight, imaging quality, RAM, battery and cpu power. In this dataset, we want to estimate the price of mobile phones using the above features."
      ],
      "metadata": {
        "id": "r7s2poiwq6YB"
      }
    },
    {
      "cell_type": "markdown",
      "source": [
        "#Importing the libraries"
      ],
      "metadata": {
        "id": "8TFuwhren1-Z"
      }
    },
    {
      "cell_type": "code",
      "execution_count": 1,
      "metadata": {
        "id": "nkNtzjTwbwAA"
      },
      "outputs": [],
      "source": [
        "import pandas as pd\n",
        "import numpy as np\n",
        "import matplotlib.pyplot as plt"
      ]
    },
    {
      "cell_type": "markdown",
      "source": [
        "#Importing the dataset"
      ],
      "metadata": {
        "id": "PtjSaIkZn7zT"
      }
    },
    {
      "cell_type": "code",
      "source": [
        "df=pd.read_csv('Cellphone.csv')"
      ],
      "metadata": {
        "id": "x9BNETw4cK_G"
      },
      "execution_count": 3,
      "outputs": []
    },
    {
      "cell_type": "code",
      "source": [
        "df"
      ],
      "metadata": {
        "colab": {
          "base_uri": "https://localhost:8080/",
          "height": 467
        },
        "id": "NOo_nPz5chuz",
        "outputId": "773edef2-8a7a-4abf-f16a-e36df683e5a9"
      },
      "execution_count": 4,
      "outputs": [
        {
          "output_type": "execute_result",
          "data": {
            "text/plain": [
              "     Product_id  Price  Sale  weight  resoloution  ppi  cpu core  cpu freq  \\\n",
              "0           203   2357    10   135.0         5.20  424         8     1.350   \n",
              "1           880   1749    10   125.0         4.00  233         2     1.300   \n",
              "2            40   1916    10   110.0         4.70  312         4     1.200   \n",
              "3            99   1315    11   118.5         4.00  233         2     1.300   \n",
              "4           880   1749    11   125.0         4.00  233         2     1.300   \n",
              "..          ...    ...   ...     ...          ...  ...       ...       ...   \n",
              "156        1206   3551  4638   178.0         5.46  538         4     1.875   \n",
              "157        1296   3211  8016   170.0         5.50  534         4     1.975   \n",
              "158         856   3260  8809   150.0         5.50  401         8     2.200   \n",
              "159        1296   3211  8946   170.0         5.50  534         4     1.975   \n",
              "160        1131   2536  9807   202.0         6.00  367         8     1.500   \n",
              "\n",
              "     internal mem    ram  RearCam  Front_Cam  battery  thickness  \n",
              "0            16.0  3.000    13.00        8.0     2610        7.4  \n",
              "1             4.0  1.000     3.15        0.0     1700        9.9  \n",
              "2             8.0  1.500    13.00        5.0     2000        7.6  \n",
              "3             4.0  0.512     3.15        0.0     1400       11.0  \n",
              "4             4.0  1.000     3.15        0.0     1700        9.9  \n",
              "..            ...    ...      ...        ...      ...        ...  \n",
              "156         128.0  6.000    12.00       16.0     4080        8.4  \n",
              "157         128.0  6.000    20.00        8.0     3400        7.9  \n",
              "158          64.0  4.000    20.00       20.0     3000        6.8  \n",
              "159         128.0  6.000    20.00        8.0     3400        7.9  \n",
              "160          16.0  3.000    21.50       16.0     2700        8.4  \n",
              "\n",
              "[161 rows x 14 columns]"
            ],
            "text/html": [
              "\n",
              "\n",
              "  <div id=\"df-9884716a-5b29-47fd-8802-de00e0003c7c\">\n",
              "    <div class=\"colab-df-container\">\n",
              "      <div>\n",
              "<style scoped>\n",
              "    .dataframe tbody tr th:only-of-type {\n",
              "        vertical-align: middle;\n",
              "    }\n",
              "\n",
              "    .dataframe tbody tr th {\n",
              "        vertical-align: top;\n",
              "    }\n",
              "\n",
              "    .dataframe thead th {\n",
              "        text-align: right;\n",
              "    }\n",
              "</style>\n",
              "<table border=\"1\" class=\"dataframe\">\n",
              "  <thead>\n",
              "    <tr style=\"text-align: right;\">\n",
              "      <th></th>\n",
              "      <th>Product_id</th>\n",
              "      <th>Price</th>\n",
              "      <th>Sale</th>\n",
              "      <th>weight</th>\n",
              "      <th>resoloution</th>\n",
              "      <th>ppi</th>\n",
              "      <th>cpu core</th>\n",
              "      <th>cpu freq</th>\n",
              "      <th>internal mem</th>\n",
              "      <th>ram</th>\n",
              "      <th>RearCam</th>\n",
              "      <th>Front_Cam</th>\n",
              "      <th>battery</th>\n",
              "      <th>thickness</th>\n",
              "    </tr>\n",
              "  </thead>\n",
              "  <tbody>\n",
              "    <tr>\n",
              "      <th>0</th>\n",
              "      <td>203</td>\n",
              "      <td>2357</td>\n",
              "      <td>10</td>\n",
              "      <td>135.0</td>\n",
              "      <td>5.20</td>\n",
              "      <td>424</td>\n",
              "      <td>8</td>\n",
              "      <td>1.350</td>\n",
              "      <td>16.0</td>\n",
              "      <td>3.000</td>\n",
              "      <td>13.00</td>\n",
              "      <td>8.0</td>\n",
              "      <td>2610</td>\n",
              "      <td>7.4</td>\n",
              "    </tr>\n",
              "    <tr>\n",
              "      <th>1</th>\n",
              "      <td>880</td>\n",
              "      <td>1749</td>\n",
              "      <td>10</td>\n",
              "      <td>125.0</td>\n",
              "      <td>4.00</td>\n",
              "      <td>233</td>\n",
              "      <td>2</td>\n",
              "      <td>1.300</td>\n",
              "      <td>4.0</td>\n",
              "      <td>1.000</td>\n",
              "      <td>3.15</td>\n",
              "      <td>0.0</td>\n",
              "      <td>1700</td>\n",
              "      <td>9.9</td>\n",
              "    </tr>\n",
              "    <tr>\n",
              "      <th>2</th>\n",
              "      <td>40</td>\n",
              "      <td>1916</td>\n",
              "      <td>10</td>\n",
              "      <td>110.0</td>\n",
              "      <td>4.70</td>\n",
              "      <td>312</td>\n",
              "      <td>4</td>\n",
              "      <td>1.200</td>\n",
              "      <td>8.0</td>\n",
              "      <td>1.500</td>\n",
              "      <td>13.00</td>\n",
              "      <td>5.0</td>\n",
              "      <td>2000</td>\n",
              "      <td>7.6</td>\n",
              "    </tr>\n",
              "    <tr>\n",
              "      <th>3</th>\n",
              "      <td>99</td>\n",
              "      <td>1315</td>\n",
              "      <td>11</td>\n",
              "      <td>118.5</td>\n",
              "      <td>4.00</td>\n",
              "      <td>233</td>\n",
              "      <td>2</td>\n",
              "      <td>1.300</td>\n",
              "      <td>4.0</td>\n",
              "      <td>0.512</td>\n",
              "      <td>3.15</td>\n",
              "      <td>0.0</td>\n",
              "      <td>1400</td>\n",
              "      <td>11.0</td>\n",
              "    </tr>\n",
              "    <tr>\n",
              "      <th>4</th>\n",
              "      <td>880</td>\n",
              "      <td>1749</td>\n",
              "      <td>11</td>\n",
              "      <td>125.0</td>\n",
              "      <td>4.00</td>\n",
              "      <td>233</td>\n",
              "      <td>2</td>\n",
              "      <td>1.300</td>\n",
              "      <td>4.0</td>\n",
              "      <td>1.000</td>\n",
              "      <td>3.15</td>\n",
              "      <td>0.0</td>\n",
              "      <td>1700</td>\n",
              "      <td>9.9</td>\n",
              "    </tr>\n",
              "    <tr>\n",
              "      <th>...</th>\n",
              "      <td>...</td>\n",
              "      <td>...</td>\n",
              "      <td>...</td>\n",
              "      <td>...</td>\n",
              "      <td>...</td>\n",
              "      <td>...</td>\n",
              "      <td>...</td>\n",
              "      <td>...</td>\n",
              "      <td>...</td>\n",
              "      <td>...</td>\n",
              "      <td>...</td>\n",
              "      <td>...</td>\n",
              "      <td>...</td>\n",
              "      <td>...</td>\n",
              "    </tr>\n",
              "    <tr>\n",
              "      <th>156</th>\n",
              "      <td>1206</td>\n",
              "      <td>3551</td>\n",
              "      <td>4638</td>\n",
              "      <td>178.0</td>\n",
              "      <td>5.46</td>\n",
              "      <td>538</td>\n",
              "      <td>4</td>\n",
              "      <td>1.875</td>\n",
              "      <td>128.0</td>\n",
              "      <td>6.000</td>\n",
              "      <td>12.00</td>\n",
              "      <td>16.0</td>\n",
              "      <td>4080</td>\n",
              "      <td>8.4</td>\n",
              "    </tr>\n",
              "    <tr>\n",
              "      <th>157</th>\n",
              "      <td>1296</td>\n",
              "      <td>3211</td>\n",
              "      <td>8016</td>\n",
              "      <td>170.0</td>\n",
              "      <td>5.50</td>\n",
              "      <td>534</td>\n",
              "      <td>4</td>\n",
              "      <td>1.975</td>\n",
              "      <td>128.0</td>\n",
              "      <td>6.000</td>\n",
              "      <td>20.00</td>\n",
              "      <td>8.0</td>\n",
              "      <td>3400</td>\n",
              "      <td>7.9</td>\n",
              "    </tr>\n",
              "    <tr>\n",
              "      <th>158</th>\n",
              "      <td>856</td>\n",
              "      <td>3260</td>\n",
              "      <td>8809</td>\n",
              "      <td>150.0</td>\n",
              "      <td>5.50</td>\n",
              "      <td>401</td>\n",
              "      <td>8</td>\n",
              "      <td>2.200</td>\n",
              "      <td>64.0</td>\n",
              "      <td>4.000</td>\n",
              "      <td>20.00</td>\n",
              "      <td>20.0</td>\n",
              "      <td>3000</td>\n",
              "      <td>6.8</td>\n",
              "    </tr>\n",
              "    <tr>\n",
              "      <th>159</th>\n",
              "      <td>1296</td>\n",
              "      <td>3211</td>\n",
              "      <td>8946</td>\n",
              "      <td>170.0</td>\n",
              "      <td>5.50</td>\n",
              "      <td>534</td>\n",
              "      <td>4</td>\n",
              "      <td>1.975</td>\n",
              "      <td>128.0</td>\n",
              "      <td>6.000</td>\n",
              "      <td>20.00</td>\n",
              "      <td>8.0</td>\n",
              "      <td>3400</td>\n",
              "      <td>7.9</td>\n",
              "    </tr>\n",
              "    <tr>\n",
              "      <th>160</th>\n",
              "      <td>1131</td>\n",
              "      <td>2536</td>\n",
              "      <td>9807</td>\n",
              "      <td>202.0</td>\n",
              "      <td>6.00</td>\n",
              "      <td>367</td>\n",
              "      <td>8</td>\n",
              "      <td>1.500</td>\n",
              "      <td>16.0</td>\n",
              "      <td>3.000</td>\n",
              "      <td>21.50</td>\n",
              "      <td>16.0</td>\n",
              "      <td>2700</td>\n",
              "      <td>8.4</td>\n",
              "    </tr>\n",
              "  </tbody>\n",
              "</table>\n",
              "<p>161 rows × 14 columns</p>\n",
              "</div>\n",
              "      <button class=\"colab-df-convert\" onclick=\"convertToInteractive('df-9884716a-5b29-47fd-8802-de00e0003c7c')\"\n",
              "              title=\"Convert this dataframe to an interactive table.\"\n",
              "              style=\"display:none;\">\n",
              "\n",
              "  <svg xmlns=\"http://www.w3.org/2000/svg\" height=\"24px\"viewBox=\"0 0 24 24\"\n",
              "       width=\"24px\">\n",
              "    <path d=\"M0 0h24v24H0V0z\" fill=\"none\"/>\n",
              "    <path d=\"M18.56 5.44l.94 2.06.94-2.06 2.06-.94-2.06-.94-.94-2.06-.94 2.06-2.06.94zm-11 1L8.5 8.5l.94-2.06 2.06-.94-2.06-.94L8.5 2.5l-.94 2.06-2.06.94zm10 10l.94 2.06.94-2.06 2.06-.94-2.06-.94-.94-2.06-.94 2.06-2.06.94z\"/><path d=\"M17.41 7.96l-1.37-1.37c-.4-.4-.92-.59-1.43-.59-.52 0-1.04.2-1.43.59L10.3 9.45l-7.72 7.72c-.78.78-.78 2.05 0 2.83L4 21.41c.39.39.9.59 1.41.59.51 0 1.02-.2 1.41-.59l7.78-7.78 2.81-2.81c.8-.78.8-2.07 0-2.86zM5.41 20L4 18.59l7.72-7.72 1.47 1.35L5.41 20z\"/>\n",
              "  </svg>\n",
              "      </button>\n",
              "\n",
              "\n",
              "\n",
              "    <div id=\"df-ea69c905-397a-4a1b-97b3-d37eeeb6f66c\">\n",
              "      <button class=\"colab-df-quickchart\" onclick=\"quickchart('df-ea69c905-397a-4a1b-97b3-d37eeeb6f66c')\"\n",
              "              title=\"Suggest charts.\"\n",
              "              style=\"display:none;\">\n",
              "\n",
              "<svg xmlns=\"http://www.w3.org/2000/svg\" height=\"24px\"viewBox=\"0 0 24 24\"\n",
              "     width=\"24px\">\n",
              "    <g>\n",
              "        <path d=\"M19 3H5c-1.1 0-2 .9-2 2v14c0 1.1.9 2 2 2h14c1.1 0 2-.9 2-2V5c0-1.1-.9-2-2-2zM9 17H7v-7h2v7zm4 0h-2V7h2v10zm4 0h-2v-4h2v4z\"/>\n",
              "    </g>\n",
              "</svg>\n",
              "      </button>\n",
              "    </div>\n",
              "\n",
              "<style>\n",
              "  .colab-df-quickchart {\n",
              "    background-color: #E8F0FE;\n",
              "    border: none;\n",
              "    border-radius: 50%;\n",
              "    cursor: pointer;\n",
              "    display: none;\n",
              "    fill: #1967D2;\n",
              "    height: 32px;\n",
              "    padding: 0 0 0 0;\n",
              "    width: 32px;\n",
              "  }\n",
              "\n",
              "  .colab-df-quickchart:hover {\n",
              "    background-color: #E2EBFA;\n",
              "    box-shadow: 0px 1px 2px rgba(60, 64, 67, 0.3), 0px 1px 3px 1px rgba(60, 64, 67, 0.15);\n",
              "    fill: #174EA6;\n",
              "  }\n",
              "\n",
              "  [theme=dark] .colab-df-quickchart {\n",
              "    background-color: #3B4455;\n",
              "    fill: #D2E3FC;\n",
              "  }\n",
              "\n",
              "  [theme=dark] .colab-df-quickchart:hover {\n",
              "    background-color: #434B5C;\n",
              "    box-shadow: 0px 1px 3px 1px rgba(0, 0, 0, 0.15);\n",
              "    filter: drop-shadow(0px 1px 2px rgba(0, 0, 0, 0.3));\n",
              "    fill: #FFFFFF;\n",
              "  }\n",
              "</style>\n",
              "\n",
              "    <script>\n",
              "      async function quickchart(key) {\n",
              "        const containerElement = document.querySelector('#' + key);\n",
              "        const charts = await google.colab.kernel.invokeFunction(\n",
              "            'suggestCharts', [key], {});\n",
              "      }\n",
              "    </script>\n",
              "\n",
              "      <script>\n",
              "\n",
              "function displayQuickchartButton(domScope) {\n",
              "  let quickchartButtonEl =\n",
              "    domScope.querySelector('#df-ea69c905-397a-4a1b-97b3-d37eeeb6f66c button.colab-df-quickchart');\n",
              "  quickchartButtonEl.style.display =\n",
              "    google.colab.kernel.accessAllowed ? 'block' : 'none';\n",
              "}\n",
              "\n",
              "        displayQuickchartButton(document);\n",
              "      </script>\n",
              "      <style>\n",
              "    .colab-df-container {\n",
              "      display:flex;\n",
              "      flex-wrap:wrap;\n",
              "      gap: 12px;\n",
              "    }\n",
              "\n",
              "    .colab-df-convert {\n",
              "      background-color: #E8F0FE;\n",
              "      border: none;\n",
              "      border-radius: 50%;\n",
              "      cursor: pointer;\n",
              "      display: none;\n",
              "      fill: #1967D2;\n",
              "      height: 32px;\n",
              "      padding: 0 0 0 0;\n",
              "      width: 32px;\n",
              "    }\n",
              "\n",
              "    .colab-df-convert:hover {\n",
              "      background-color: #E2EBFA;\n",
              "      box-shadow: 0px 1px 2px rgba(60, 64, 67, 0.3), 0px 1px 3px 1px rgba(60, 64, 67, 0.15);\n",
              "      fill: #174EA6;\n",
              "    }\n",
              "\n",
              "    [theme=dark] .colab-df-convert {\n",
              "      background-color: #3B4455;\n",
              "      fill: #D2E3FC;\n",
              "    }\n",
              "\n",
              "    [theme=dark] .colab-df-convert:hover {\n",
              "      background-color: #434B5C;\n",
              "      box-shadow: 0px 1px 3px 1px rgba(0, 0, 0, 0.15);\n",
              "      filter: drop-shadow(0px 1px 2px rgba(0, 0, 0, 0.3));\n",
              "      fill: #FFFFFF;\n",
              "    }\n",
              "  </style>\n",
              "\n",
              "      <script>\n",
              "        const buttonEl =\n",
              "          document.querySelector('#df-9884716a-5b29-47fd-8802-de00e0003c7c button.colab-df-convert');\n",
              "        buttonEl.style.display =\n",
              "          google.colab.kernel.accessAllowed ? 'block' : 'none';\n",
              "\n",
              "        async function convertToInteractive(key) {\n",
              "          const element = document.querySelector('#df-9884716a-5b29-47fd-8802-de00e0003c7c');\n",
              "          const dataTable =\n",
              "            await google.colab.kernel.invokeFunction('convertToInteractive',\n",
              "                                                     [key], {});\n",
              "          if (!dataTable) return;\n",
              "\n",
              "          const docLinkHtml = 'Like what you see? Visit the ' +\n",
              "            '<a target=\"_blank\" href=https://colab.research.google.com/notebooks/data_table.ipynb>data table notebook</a>'\n",
              "            + ' to learn more about interactive tables.';\n",
              "          element.innerHTML = '';\n",
              "          dataTable['output_type'] = 'display_data';\n",
              "          await google.colab.output.renderOutput(dataTable, element);\n",
              "          const docLink = document.createElement('div');\n",
              "          docLink.innerHTML = docLinkHtml;\n",
              "          element.appendChild(docLink);\n",
              "        }\n",
              "      </script>\n",
              "    </div>\n",
              "  </div>\n"
            ]
          },
          "metadata": {},
          "execution_count": 4
        }
      ]
    },
    {
      "cell_type": "code",
      "source": [
        "df.isnull().sum()"
      ],
      "metadata": {
        "colab": {
          "base_uri": "https://localhost:8080/"
        },
        "id": "D-mhe7fVcm3m",
        "outputId": "36e05f64-190c-4938-9329-8c02222d0331"
      },
      "execution_count": 5,
      "outputs": [
        {
          "output_type": "execute_result",
          "data": {
            "text/plain": [
              "Product_id      0\n",
              "Price           0\n",
              "Sale            0\n",
              "weight          0\n",
              "resoloution     0\n",
              "ppi             0\n",
              "cpu core        0\n",
              "cpu freq        0\n",
              "internal mem    0\n",
              "ram             0\n",
              "RearCam         0\n",
              "Front_Cam       0\n",
              "battery         0\n",
              "thickness       0\n",
              "dtype: int64"
            ]
          },
          "metadata": {},
          "execution_count": 5
        }
      ]
    },
    {
      "cell_type": "markdown",
      "source": [
        "## Drop the \"Product_id\" column"
      ],
      "metadata": {
        "id": "dn8x22bboGPH"
      }
    },
    {
      "cell_type": "code",
      "source": [
        "df = df.drop(columns=['Product_id'])"
      ],
      "metadata": {
        "id": "wyzBnIR5dJYe"
      },
      "execution_count": 6,
      "outputs": []
    },
    {
      "cell_type": "code",
      "source": [
        "df"
      ],
      "metadata": {
        "colab": {
          "base_uri": "https://localhost:8080/",
          "height": 423
        },
        "id": "SGfXP9ZQdixK",
        "outputId": "6a869357-0537-4147-f772-832b72f773bc"
      },
      "execution_count": 7,
      "outputs": [
        {
          "output_type": "execute_result",
          "data": {
            "text/plain": [
              "     Price  Sale  weight  resoloution  ppi  cpu core  cpu freq  internal mem  \\\n",
              "0     2357    10   135.0         5.20  424         8     1.350          16.0   \n",
              "1     1749    10   125.0         4.00  233         2     1.300           4.0   \n",
              "2     1916    10   110.0         4.70  312         4     1.200           8.0   \n",
              "3     1315    11   118.5         4.00  233         2     1.300           4.0   \n",
              "4     1749    11   125.0         4.00  233         2     1.300           4.0   \n",
              "..     ...   ...     ...          ...  ...       ...       ...           ...   \n",
              "156   3551  4638   178.0         5.46  538         4     1.875         128.0   \n",
              "157   3211  8016   170.0         5.50  534         4     1.975         128.0   \n",
              "158   3260  8809   150.0         5.50  401         8     2.200          64.0   \n",
              "159   3211  8946   170.0         5.50  534         4     1.975         128.0   \n",
              "160   2536  9807   202.0         6.00  367         8     1.500          16.0   \n",
              "\n",
              "       ram  RearCam  Front_Cam  battery  thickness  \n",
              "0    3.000    13.00        8.0     2610        7.4  \n",
              "1    1.000     3.15        0.0     1700        9.9  \n",
              "2    1.500    13.00        5.0     2000        7.6  \n",
              "3    0.512     3.15        0.0     1400       11.0  \n",
              "4    1.000     3.15        0.0     1700        9.9  \n",
              "..     ...      ...        ...      ...        ...  \n",
              "156  6.000    12.00       16.0     4080        8.4  \n",
              "157  6.000    20.00        8.0     3400        7.9  \n",
              "158  4.000    20.00       20.0     3000        6.8  \n",
              "159  6.000    20.00        8.0     3400        7.9  \n",
              "160  3.000    21.50       16.0     2700        8.4  \n",
              "\n",
              "[161 rows x 13 columns]"
            ],
            "text/html": [
              "\n",
              "\n",
              "  <div id=\"df-a7bca40b-dd69-4c75-84f2-4c05e6e1a9ae\">\n",
              "    <div class=\"colab-df-container\">\n",
              "      <div>\n",
              "<style scoped>\n",
              "    .dataframe tbody tr th:only-of-type {\n",
              "        vertical-align: middle;\n",
              "    }\n",
              "\n",
              "    .dataframe tbody tr th {\n",
              "        vertical-align: top;\n",
              "    }\n",
              "\n",
              "    .dataframe thead th {\n",
              "        text-align: right;\n",
              "    }\n",
              "</style>\n",
              "<table border=\"1\" class=\"dataframe\">\n",
              "  <thead>\n",
              "    <tr style=\"text-align: right;\">\n",
              "      <th></th>\n",
              "      <th>Price</th>\n",
              "      <th>Sale</th>\n",
              "      <th>weight</th>\n",
              "      <th>resoloution</th>\n",
              "      <th>ppi</th>\n",
              "      <th>cpu core</th>\n",
              "      <th>cpu freq</th>\n",
              "      <th>internal mem</th>\n",
              "      <th>ram</th>\n",
              "      <th>RearCam</th>\n",
              "      <th>Front_Cam</th>\n",
              "      <th>battery</th>\n",
              "      <th>thickness</th>\n",
              "    </tr>\n",
              "  </thead>\n",
              "  <tbody>\n",
              "    <tr>\n",
              "      <th>0</th>\n",
              "      <td>2357</td>\n",
              "      <td>10</td>\n",
              "      <td>135.0</td>\n",
              "      <td>5.20</td>\n",
              "      <td>424</td>\n",
              "      <td>8</td>\n",
              "      <td>1.350</td>\n",
              "      <td>16.0</td>\n",
              "      <td>3.000</td>\n",
              "      <td>13.00</td>\n",
              "      <td>8.0</td>\n",
              "      <td>2610</td>\n",
              "      <td>7.4</td>\n",
              "    </tr>\n",
              "    <tr>\n",
              "      <th>1</th>\n",
              "      <td>1749</td>\n",
              "      <td>10</td>\n",
              "      <td>125.0</td>\n",
              "      <td>4.00</td>\n",
              "      <td>233</td>\n",
              "      <td>2</td>\n",
              "      <td>1.300</td>\n",
              "      <td>4.0</td>\n",
              "      <td>1.000</td>\n",
              "      <td>3.15</td>\n",
              "      <td>0.0</td>\n",
              "      <td>1700</td>\n",
              "      <td>9.9</td>\n",
              "    </tr>\n",
              "    <tr>\n",
              "      <th>2</th>\n",
              "      <td>1916</td>\n",
              "      <td>10</td>\n",
              "      <td>110.0</td>\n",
              "      <td>4.70</td>\n",
              "      <td>312</td>\n",
              "      <td>4</td>\n",
              "      <td>1.200</td>\n",
              "      <td>8.0</td>\n",
              "      <td>1.500</td>\n",
              "      <td>13.00</td>\n",
              "      <td>5.0</td>\n",
              "      <td>2000</td>\n",
              "      <td>7.6</td>\n",
              "    </tr>\n",
              "    <tr>\n",
              "      <th>3</th>\n",
              "      <td>1315</td>\n",
              "      <td>11</td>\n",
              "      <td>118.5</td>\n",
              "      <td>4.00</td>\n",
              "      <td>233</td>\n",
              "      <td>2</td>\n",
              "      <td>1.300</td>\n",
              "      <td>4.0</td>\n",
              "      <td>0.512</td>\n",
              "      <td>3.15</td>\n",
              "      <td>0.0</td>\n",
              "      <td>1400</td>\n",
              "      <td>11.0</td>\n",
              "    </tr>\n",
              "    <tr>\n",
              "      <th>4</th>\n",
              "      <td>1749</td>\n",
              "      <td>11</td>\n",
              "      <td>125.0</td>\n",
              "      <td>4.00</td>\n",
              "      <td>233</td>\n",
              "      <td>2</td>\n",
              "      <td>1.300</td>\n",
              "      <td>4.0</td>\n",
              "      <td>1.000</td>\n",
              "      <td>3.15</td>\n",
              "      <td>0.0</td>\n",
              "      <td>1700</td>\n",
              "      <td>9.9</td>\n",
              "    </tr>\n",
              "    <tr>\n",
              "      <th>...</th>\n",
              "      <td>...</td>\n",
              "      <td>...</td>\n",
              "      <td>...</td>\n",
              "      <td>...</td>\n",
              "      <td>...</td>\n",
              "      <td>...</td>\n",
              "      <td>...</td>\n",
              "      <td>...</td>\n",
              "      <td>...</td>\n",
              "      <td>...</td>\n",
              "      <td>...</td>\n",
              "      <td>...</td>\n",
              "      <td>...</td>\n",
              "    </tr>\n",
              "    <tr>\n",
              "      <th>156</th>\n",
              "      <td>3551</td>\n",
              "      <td>4638</td>\n",
              "      <td>178.0</td>\n",
              "      <td>5.46</td>\n",
              "      <td>538</td>\n",
              "      <td>4</td>\n",
              "      <td>1.875</td>\n",
              "      <td>128.0</td>\n",
              "      <td>6.000</td>\n",
              "      <td>12.00</td>\n",
              "      <td>16.0</td>\n",
              "      <td>4080</td>\n",
              "      <td>8.4</td>\n",
              "    </tr>\n",
              "    <tr>\n",
              "      <th>157</th>\n",
              "      <td>3211</td>\n",
              "      <td>8016</td>\n",
              "      <td>170.0</td>\n",
              "      <td>5.50</td>\n",
              "      <td>534</td>\n",
              "      <td>4</td>\n",
              "      <td>1.975</td>\n",
              "      <td>128.0</td>\n",
              "      <td>6.000</td>\n",
              "      <td>20.00</td>\n",
              "      <td>8.0</td>\n",
              "      <td>3400</td>\n",
              "      <td>7.9</td>\n",
              "    </tr>\n",
              "    <tr>\n",
              "      <th>158</th>\n",
              "      <td>3260</td>\n",
              "      <td>8809</td>\n",
              "      <td>150.0</td>\n",
              "      <td>5.50</td>\n",
              "      <td>401</td>\n",
              "      <td>8</td>\n",
              "      <td>2.200</td>\n",
              "      <td>64.0</td>\n",
              "      <td>4.000</td>\n",
              "      <td>20.00</td>\n",
              "      <td>20.0</td>\n",
              "      <td>3000</td>\n",
              "      <td>6.8</td>\n",
              "    </tr>\n",
              "    <tr>\n",
              "      <th>159</th>\n",
              "      <td>3211</td>\n",
              "      <td>8946</td>\n",
              "      <td>170.0</td>\n",
              "      <td>5.50</td>\n",
              "      <td>534</td>\n",
              "      <td>4</td>\n",
              "      <td>1.975</td>\n",
              "      <td>128.0</td>\n",
              "      <td>6.000</td>\n",
              "      <td>20.00</td>\n",
              "      <td>8.0</td>\n",
              "      <td>3400</td>\n",
              "      <td>7.9</td>\n",
              "    </tr>\n",
              "    <tr>\n",
              "      <th>160</th>\n",
              "      <td>2536</td>\n",
              "      <td>9807</td>\n",
              "      <td>202.0</td>\n",
              "      <td>6.00</td>\n",
              "      <td>367</td>\n",
              "      <td>8</td>\n",
              "      <td>1.500</td>\n",
              "      <td>16.0</td>\n",
              "      <td>3.000</td>\n",
              "      <td>21.50</td>\n",
              "      <td>16.0</td>\n",
              "      <td>2700</td>\n",
              "      <td>8.4</td>\n",
              "    </tr>\n",
              "  </tbody>\n",
              "</table>\n",
              "<p>161 rows × 13 columns</p>\n",
              "</div>\n",
              "      <button class=\"colab-df-convert\" onclick=\"convertToInteractive('df-a7bca40b-dd69-4c75-84f2-4c05e6e1a9ae')\"\n",
              "              title=\"Convert this dataframe to an interactive table.\"\n",
              "              style=\"display:none;\">\n",
              "\n",
              "  <svg xmlns=\"http://www.w3.org/2000/svg\" height=\"24px\"viewBox=\"0 0 24 24\"\n",
              "       width=\"24px\">\n",
              "    <path d=\"M0 0h24v24H0V0z\" fill=\"none\"/>\n",
              "    <path d=\"M18.56 5.44l.94 2.06.94-2.06 2.06-.94-2.06-.94-.94-2.06-.94 2.06-2.06.94zm-11 1L8.5 8.5l.94-2.06 2.06-.94-2.06-.94L8.5 2.5l-.94 2.06-2.06.94zm10 10l.94 2.06.94-2.06 2.06-.94-2.06-.94-.94-2.06-.94 2.06-2.06.94z\"/><path d=\"M17.41 7.96l-1.37-1.37c-.4-.4-.92-.59-1.43-.59-.52 0-1.04.2-1.43.59L10.3 9.45l-7.72 7.72c-.78.78-.78 2.05 0 2.83L4 21.41c.39.39.9.59 1.41.59.51 0 1.02-.2 1.41-.59l7.78-7.78 2.81-2.81c.8-.78.8-2.07 0-2.86zM5.41 20L4 18.59l7.72-7.72 1.47 1.35L5.41 20z\"/>\n",
              "  </svg>\n",
              "      </button>\n",
              "\n",
              "\n",
              "\n",
              "    <div id=\"df-2264d28c-7b9f-4872-be07-f7569e5416b4\">\n",
              "      <button class=\"colab-df-quickchart\" onclick=\"quickchart('df-2264d28c-7b9f-4872-be07-f7569e5416b4')\"\n",
              "              title=\"Suggest charts.\"\n",
              "              style=\"display:none;\">\n",
              "\n",
              "<svg xmlns=\"http://www.w3.org/2000/svg\" height=\"24px\"viewBox=\"0 0 24 24\"\n",
              "     width=\"24px\">\n",
              "    <g>\n",
              "        <path d=\"M19 3H5c-1.1 0-2 .9-2 2v14c0 1.1.9 2 2 2h14c1.1 0 2-.9 2-2V5c0-1.1-.9-2-2-2zM9 17H7v-7h2v7zm4 0h-2V7h2v10zm4 0h-2v-4h2v4z\"/>\n",
              "    </g>\n",
              "</svg>\n",
              "      </button>\n",
              "    </div>\n",
              "\n",
              "<style>\n",
              "  .colab-df-quickchart {\n",
              "    background-color: #E8F0FE;\n",
              "    border: none;\n",
              "    border-radius: 50%;\n",
              "    cursor: pointer;\n",
              "    display: none;\n",
              "    fill: #1967D2;\n",
              "    height: 32px;\n",
              "    padding: 0 0 0 0;\n",
              "    width: 32px;\n",
              "  }\n",
              "\n",
              "  .colab-df-quickchart:hover {\n",
              "    background-color: #E2EBFA;\n",
              "    box-shadow: 0px 1px 2px rgba(60, 64, 67, 0.3), 0px 1px 3px 1px rgba(60, 64, 67, 0.15);\n",
              "    fill: #174EA6;\n",
              "  }\n",
              "\n",
              "  [theme=dark] .colab-df-quickchart {\n",
              "    background-color: #3B4455;\n",
              "    fill: #D2E3FC;\n",
              "  }\n",
              "\n",
              "  [theme=dark] .colab-df-quickchart:hover {\n",
              "    background-color: #434B5C;\n",
              "    box-shadow: 0px 1px 3px 1px rgba(0, 0, 0, 0.15);\n",
              "    filter: drop-shadow(0px 1px 2px rgba(0, 0, 0, 0.3));\n",
              "    fill: #FFFFFF;\n",
              "  }\n",
              "</style>\n",
              "\n",
              "    <script>\n",
              "      async function quickchart(key) {\n",
              "        const containerElement = document.querySelector('#' + key);\n",
              "        const charts = await google.colab.kernel.invokeFunction(\n",
              "            'suggestCharts', [key], {});\n",
              "      }\n",
              "    </script>\n",
              "\n",
              "      <script>\n",
              "\n",
              "function displayQuickchartButton(domScope) {\n",
              "  let quickchartButtonEl =\n",
              "    domScope.querySelector('#df-2264d28c-7b9f-4872-be07-f7569e5416b4 button.colab-df-quickchart');\n",
              "  quickchartButtonEl.style.display =\n",
              "    google.colab.kernel.accessAllowed ? 'block' : 'none';\n",
              "}\n",
              "\n",
              "        displayQuickchartButton(document);\n",
              "      </script>\n",
              "      <style>\n",
              "    .colab-df-container {\n",
              "      display:flex;\n",
              "      flex-wrap:wrap;\n",
              "      gap: 12px;\n",
              "    }\n",
              "\n",
              "    .colab-df-convert {\n",
              "      background-color: #E8F0FE;\n",
              "      border: none;\n",
              "      border-radius: 50%;\n",
              "      cursor: pointer;\n",
              "      display: none;\n",
              "      fill: #1967D2;\n",
              "      height: 32px;\n",
              "      padding: 0 0 0 0;\n",
              "      width: 32px;\n",
              "    }\n",
              "\n",
              "    .colab-df-convert:hover {\n",
              "      background-color: #E2EBFA;\n",
              "      box-shadow: 0px 1px 2px rgba(60, 64, 67, 0.3), 0px 1px 3px 1px rgba(60, 64, 67, 0.15);\n",
              "      fill: #174EA6;\n",
              "    }\n",
              "\n",
              "    [theme=dark] .colab-df-convert {\n",
              "      background-color: #3B4455;\n",
              "      fill: #D2E3FC;\n",
              "    }\n",
              "\n",
              "    [theme=dark] .colab-df-convert:hover {\n",
              "      background-color: #434B5C;\n",
              "      box-shadow: 0px 1px 3px 1px rgba(0, 0, 0, 0.15);\n",
              "      filter: drop-shadow(0px 1px 2px rgba(0, 0, 0, 0.3));\n",
              "      fill: #FFFFFF;\n",
              "    }\n",
              "  </style>\n",
              "\n",
              "      <script>\n",
              "        const buttonEl =\n",
              "          document.querySelector('#df-a7bca40b-dd69-4c75-84f2-4c05e6e1a9ae button.colab-df-convert');\n",
              "        buttonEl.style.display =\n",
              "          google.colab.kernel.accessAllowed ? 'block' : 'none';\n",
              "\n",
              "        async function convertToInteractive(key) {\n",
              "          const element = document.querySelector('#df-a7bca40b-dd69-4c75-84f2-4c05e6e1a9ae');\n",
              "          const dataTable =\n",
              "            await google.colab.kernel.invokeFunction('convertToInteractive',\n",
              "                                                     [key], {});\n",
              "          if (!dataTable) return;\n",
              "\n",
              "          const docLinkHtml = 'Like what you see? Visit the ' +\n",
              "            '<a target=\"_blank\" href=https://colab.research.google.com/notebooks/data_table.ipynb>data table notebook</a>'\n",
              "            + ' to learn more about interactive tables.';\n",
              "          element.innerHTML = '';\n",
              "          dataTable['output_type'] = 'display_data';\n",
              "          await google.colab.output.renderOutput(dataTable, element);\n",
              "          const docLink = document.createElement('div');\n",
              "          docLink.innerHTML = docLinkHtml;\n",
              "          element.appendChild(docLink);\n",
              "        }\n",
              "      </script>\n",
              "    </div>\n",
              "  </div>\n"
            ]
          },
          "metadata": {},
          "execution_count": 7
        }
      ]
    },
    {
      "cell_type": "code",
      "source": [
        "import seaborn as sns\n",
        "plt.figure(figsize=(12,7))\n",
        "sns.heatmap(df.corr(),annot=True,cmap='viridis')\n",
        "plt.ylim(10, 0)"
      ],
      "metadata": {
        "colab": {
          "base_uri": "https://localhost:8080/",
          "height": 740
        },
        "id": "H2HCyyfidjlS",
        "outputId": "3e5b9457-6b5c-4026-9ced-542c4e5de98e"
      },
      "execution_count": 9,
      "outputs": [
        {
          "output_type": "execute_result",
          "data": {
            "text/plain": [
              "(10.0, 0.0)"
            ]
          },
          "metadata": {},
          "execution_count": 9
        },
        {
          "output_type": "display_data",
          "data": {
            "text/plain": [
              "<Figure size 1200x700 with 2 Axes>"
            ],
            "image/png": "[encoded data removed]"
          },
          "metadata": {}
        }
      ]
    },
    {
      "cell_type": "code",
      "source": [
        "# dropping 'thickness', 'Sale', 'weight', 'resoloution' columns for X. because they have low correlation with Mobile Price\n",
        "x = df.drop(['Price', 'thickness', 'Sale', 'weight', 'resoloution'], axis=1)\n",
        "y = df['Price']\n"
      ],
      "metadata": {
        "id": "QqFrnu8beIDp"
      },
      "execution_count": 42,
      "outputs": []
    },
    {
      "cell_type": "markdown",
      "source": [
        "##Splitting the dataset into the Training set and Test set"
      ],
      "metadata": {
        "id": "EI99T_0Mo1JT"
      }
    },
    {
      "cell_type": "code",
      "source": [
        "from sklearn.model_selection import train_test_split"
      ],
      "metadata": {
        "id": "81b7D1vke7x-"
      },
      "execution_count": 31,
      "outputs": []
    },
    {
      "cell_type": "code",
      "source": [
        "X_train, X_test, y_train, y_test = train_test_split(x, y, test_size = 0.2, random_state = 0)"
      ],
      "metadata": {
        "id": "zqv8GThqfMkA"
      },
      "execution_count": 32,
      "outputs": []
    },
    {
      "cell_type": "markdown",
      "source": [
        "##Training the Simple Linear Regression model"
      ],
      "metadata": {
        "id": "f2TYTAK7pAtc"
      }
    },
    {
      "cell_type": "code",
      "source": [
        "from sklearn.linear_model import LinearRegression"
      ],
      "metadata": {
        "id": "elS-kH9gfQJL"
      },
      "execution_count": 33,
      "outputs": []
    },
    {
      "cell_type": "code",
      "source": [
        "regressor=LinearRegression()"
      ],
      "metadata": {
        "id": "e_epjkFtfUVf"
      },
      "execution_count": 34,
      "outputs": []
    },
    {
      "cell_type": "code",
      "source": [
        "regressor.fit(X_train,y_train)"
      ],
      "metadata": {
        "colab": {
          "base_uri": "https://localhost:8080/",
          "height": 74
        },
        "id": "nqW1eeuhfWbU",
        "outputId": "d069405a-a569-4cc3-9356-fbf02b9eb0f0"
      },
      "execution_count": 35,
      "outputs": [
        {
          "output_type": "execute_result",
          "data": {
            "text/plain": [
              "LinearRegression()"
            ],
            "text/html": [
              "<style>#sk-container-id-2 {color: black;background-color: white;}#sk-container-id-2 pre{padding: 0;}#sk-container-id-2 div.sk-toggleable {background-color: white;}#sk-container-id-2 label.sk-toggleable__label {cursor: pointer;display: block;width: 100%;margin-bottom: 0;padding: 0.3em;box-sizing: border-box;text-align: center;}#sk-container-id-2 label.sk-toggleable__label-arrow:before {content: \"▸\";float: left;margin-right: 0.25em;color: #696969;}#sk-container-id-2 label.sk-toggleable__label-arrow:hover:before {color: black;}#sk-container-id-2 div.sk-estimator:hover label.sk-toggleable__label-arrow:before {color: black;}#sk-container-id-2 div.sk-toggleable__content {max-height: 0;max-width: 0;overflow: hidden;text-align: left;background-color: #f0f8ff;}#sk-container-id-2 div.sk-toggleable__content pre {margin: 0.2em;color: black;border-radius: 0.25em;background-color: #f0f8ff;}#sk-container-id-2 input.sk-toggleable__control:checked~div.sk-toggleable__content {max-height: 200px;max-width: 100%;overflow: auto;}#sk-container-id-2 input.sk-toggleable__control:checked~label.sk-toggleable__label-arrow:before {content: \"▾\";}#sk-container-id-2 div.sk-estimator input.sk-toggleable__control:checked~label.sk-toggleable__label {background-color: #d4ebff;}#sk-container-id-2 div.sk-label input.sk-toggleable__control:checked~label.sk-toggleable__label {background-color: #d4ebff;}#sk-container-id-2 input.sk-hidden--visually {border: 0;clip: rect(1px 1px 1px 1px);clip: rect(1px, 1px, 1px, 1px);height: 1px;margin: -1px;overflow: hidden;padding: 0;position: absolute;width: 1px;}#sk-container-id-2 div.sk-estimator {font-family: monospace;background-color: #f0f8ff;border: 1px dotted black;border-radius: 0.25em;box-sizing: border-box;margin-bottom: 0.5em;}#sk-container-id-2 div.sk-estimator:hover {background-color: #d4ebff;}#sk-container-id-2 div.sk-parallel-item::after {content: \"\";width: 100%;border-bottom: 1px solid gray;flex-grow: 1;}#sk-container-id-2 div.sk-label:hover label.sk-toggleable__label {background-color: #d4ebff;}#sk-container-id-2 div.sk-serial::before {content: \"\";position: absolute;border-left: 1px solid gray;box-sizing: border-box;top: 0;bottom: 0;left: 50%;z-index: 0;}#sk-container-id-2 div.sk-serial {display: flex;flex-direction: column;align-items: center;background-color: white;padding-right: 0.2em;padding-left: 0.2em;position: relative;}#sk-container-id-2 div.sk-item {position: relative;z-index: 1;}#sk-container-id-2 div.sk-parallel {display: flex;align-items: stretch;justify-content: center;background-color: white;position: relative;}#sk-container-id-2 div.sk-item::before, #sk-container-id-2 div.sk-parallel-item::before {content: \"\";position: absolute;border-left: 1px solid gray;box-sizing: border-box;top: 0;bottom: 0;left: 50%;z-index: -1;}#sk-container-id-2 div.sk-parallel-item {display: flex;flex-direction: column;z-index: 1;position: relative;background-color: white;}#sk-container-id-2 div.sk-parallel-item:first-child::after {align-self: flex-end;width: 50%;}#sk-container-id-2 div.sk-parallel-item:last-child::after {align-self: flex-start;width: 50%;}#sk-container-id-2 div.sk-parallel-item:only-child::after {width: 0;}#sk-container-id-2 div.sk-dashed-wrapped {border: 1px dashed gray;margin: 0 0.4em 0.5em 0.4em;box-sizing: border-box;padding-bottom: 0.4em;background-color: white;}#sk-container-id-2 div.sk-label label {font-family: monospace;font-weight: bold;display: inline-block;line-height: 1.2em;}#sk-container-id-2 div.sk-label-container {text-align: center;}#sk-container-id-2 div.sk-container {/* jupyter's `normalize.less` sets `[hidden] { display: none; }` but bootstrap.min.css set `[hidden] { display: none !important; }` so we also need the `!important` here to be able to override the default hidden behavior on the sphinx rendered scikit-learn.org. See: https://github.com/scikit-learn/scikit-learn/issues/21755 */display: inline-block !important;position: relative;}#sk-container-id-2 div.sk-text-repr-fallback {display: none;}</style><div id=\"sk-container-id-2\" class=\"sk-top-container\"><div class=\"sk-text-repr-fallback\"><pre>LinearRegression()</pre><b>In a Jupyter environment, please rerun this cell to show the HTML representation or trust the notebook. <br />On GitHub, the HTML representation is unable to render, please try loading this page with nbviewer.org.</b></div><div class=\"sk-container\" hidden><div class=\"sk-item\"><div class=\"sk-estimator sk-toggleable\"><input class=\"sk-toggleable__control sk-hidden--visually\" id=\"sk-estimator-id-2\" type=\"checkbox\" checked><label for=\"sk-estimator-id-2\" class=\"sk-toggleable__label sk-toggleable__label-arrow\">LinearRegression</label><div class=\"sk-toggleable__content\"><pre>LinearRegression()</pre></div></div></div></div></div>"
            ]
          },
          "metadata": {},
          "execution_count": 35
        }
      ]
    },
    {
      "cell_type": "code",
      "source": [
        "y_pred=regressor.predict(X_test)"
      ],
      "metadata": {
        "id": "aqO3RrcMfZ96"
      },
      "execution_count": 36,
      "outputs": []
    },
    {
      "cell_type": "markdown",
      "source": [
        "## Actual and Predicted Values"
      ],
      "metadata": {
        "id": "Jt3ZNyuopOY7"
      }
    },
    {
      "cell_type": "code",
      "source": [
        "differences = np.concatenate((y_pred.reshape(len(y_pred), 1), y_test.values.reshape(len(y_test), 1)), axis=1)\n",
        "\n",
        "np.set_printoptions(precision=2)\n",
        "print(differences)"
      ],
      "metadata": {
        "colab": {
          "base_uri": "https://localhost:8080/"
        },
        "id": "1nXU9HIBkuYt",
        "outputId": "703a940c-0786-41e6-8c45-bdef33d49a43"
      },
      "execution_count": 37,
      "outputs": [
        {
          "output_type": "stream",
          "name": "stdout",
          "text": [
            "[[2916.62 2975.  ]\n",
            " [ 801.44  754.  ]\n",
            " [1706.56 1921.  ]\n",
            " [2334.2  2137.  ]\n",
            " [2943.91 2859.  ]\n",
            " [2506.14 2744.  ]\n",
            " [1891.86 2001.  ]\n",
            " [2815.59 2746.  ]\n",
            " [1561.46 1396.  ]\n",
            " [ 869.3   791.  ]\n",
            " [2146.59 2266.  ]\n",
            " [1790.9  1831.  ]\n",
            " [1959.6  2006.  ]\n",
            " [3292.11 3102.  ]\n",
            " [3737.51 3211.  ]\n",
            " [1354.45 1347.  ]\n",
            " [1354.45 1347.  ]\n",
            " [2525.39 2562.  ]\n",
            " [2758.26 2466.  ]\n",
            " [1641.33 1646.  ]\n",
            " [1981.8  1989.  ]\n",
            " [3499.06 3658.  ]\n",
            " [1673.78 1741.  ]\n",
            " [1406.59 1315.  ]\n",
            " [2128.07 2124.  ]\n",
            " [2616.32 2654.  ]\n",
            " [3038.65 3055.  ]\n",
            " [2815.59 2746.  ]\n",
            " [1434.79 1522.  ]\n",
            " [1891.86 2001.  ]\n",
            " [2212.27 2445.  ]\n",
            " [2357.52 1942.  ]\n",
            " [1747.69 1984.  ]]\n"
          ]
        }
      ]
    },
    {
      "cell_type": "markdown",
      "source": [
        "## Calculate evaluation metrics"
      ],
      "metadata": {
        "id": "OhB41ppJpXF1"
      }
    },
    {
      "cell_type": "code",
      "source": [
        "\n",
        "from sklearn.metrics import mean_absolute_error, mean_squared_error, r2_score\n",
        "mae = mean_absolute_error(y_test, y_pred)\n",
        "mse = mean_squared_error(y_test, y_pred)\n",
        "rmse = np.sqrt(mse)\n",
        "r2 = r2_score(y_test, y_pred)"
      ],
      "metadata": {
        "id": "2DahV47yhBWn"
      },
      "execution_count": 38,
      "outputs": []
    },
    {
      "cell_type": "markdown",
      "source": [
        "## Print the metrics"
      ],
      "metadata": {
        "id": "85My29xMpan5"
      }
    },
    {
      "cell_type": "code",
      "source": [
        "print(f\"Mean Absolute Error: {mae}\")\n",
        "print(f\"Mean Squared Error: {mse}\")\n",
        "print(f\"Root Mean Squared Error: {rmse}\")\n",
        "print(f\"R-squared: {r2}\")"
      ],
      "metadata": {
        "colab": {
          "base_uri": "https://localhost:8080/"
        },
        "id": "XkGU34-cijni",
        "outputId": "a7c153ab-b17a-4950-a737-c374a3df0bcc"
      },
      "execution_count": 39,
      "outputs": [
        {
          "output_type": "stream",
          "name": "stdout",
          "text": [
            "Mean Absolute Error: 123.24931616790957\n",
            "Mean Squared Error: 29387.26897056555\n",
            "Root Mean Squared Error: 171.42715353923822\n",
            "R-squared: 0.9373368024480883\n"
          ]
        }
      ]
    },
    {
      "cell_type": "markdown",
      "source": [
        "#Visualizing Actual vs. Predicted Values"
      ],
      "metadata": {
        "id": "GgcEpKanphx3"
      }
    },
    {
      "cell_type": "code",
      "source": [
        "plt.scatter(y_pred, y_test)\n",
        "plt.xlabel('Predicted Values')\n",
        "plt.ylabel('Actual Values')\n",
        "plt.title('Actual vs. Predicted Values(Simple Linear Regression)')\n",
        "plt.show()"
      ],
      "metadata": {
        "colab": {
          "base_uri": "https://localhost:8080/",
          "height": 472
        },
        "id": "EDRz8BYekMv6",
        "outputId": "da46ab11-8882-43f5-ed32-3f2f1616d501"
      },
      "execution_count": 41,
      "outputs": [
        {
          "output_type": "display_data",
          "data": {
            "text/plain": [
              "<Figure size 640x480 with 1 Axes>"
            ],
            "image/png": "[encoded data removed]"
          },
          "metadata": {}
        }
      ]
    },
    {
      "cell_type": "markdown",
      "source": [
        "##Conclusion"
      ],
      "metadata": {
        "id": "CfsV_Bhzp356"
      }
    },
    {
      "cell_type": "markdown",
      "source": [
        "\n",
        "1. **Mean Absolute Error (MAE):**\n",
        "   - MAE represents the average absolute difference between the predicted values and the actual values.\n",
        "   - In our case, the MAE is approximately 123.25. This means that, on average, your model's predictions have an absolute difference of about 123.25 units from the actual values.\n",
        "\n",
        "2. **Mean Squared Error (MSE):**\n",
        "   - MSE measures the average of the squared differences between the predicted and actual values.\n",
        "   - Our MSE is approximately 29387.27. This value indicates that, on average, the squared difference between predictions and actual values is around 29387.27 units.\n",
        "\n",
        "3. **Root Mean Squared Error (RMSE):**\n",
        "   - RMSE is the square root of MSE and provides a more interpretable scale since it's in the same units as the original data.\n",
        "   - Our RMSE is approximately 171.43. This value indicates that, on average, your model's predictions have an error of about 171.43 units from the actual values.\n",
        "\n",
        "4. **R-squared (R2) Score:**\n",
        "   - R-squared measures how well your model's predictions explain the variability of the actual values.\n",
        "   - Our R2 score is approximately 0.937. This value suggests that your model explains about 93.7% of the variability in the dependent variable (the actual values) using the independent variables (the predicted values) from your model. A higher R2 score indicates a better fit, but it's important to consider the context of your data.\n",
        "\n",
        "Overall, the metrics indicate that our model is making reasonably accurate predictions, as the MAE, MSE, and RMSE are not excessively high, and the R-squared value is relatively close to 1."
      ],
      "metadata": {
        "id": "IpVeg5bZp8dO"
      }
    }
  ]
}